{
 "cells": [
  {
   "cell_type": "code",
   "execution_count": null,
   "metadata": {
    "tags": []
   },
   "outputs": [],
   "source": [
    "import pandas as pd"
   ]
  },
  {
   "cell_type": "code",
   "execution_count": 2,
   "metadata": {},
   "outputs": [
    {
     "data": {
      "text/html": [
       "<div>\n",
       "<style scoped>\n",
       "    .dataframe tbody tr th:only-of-type {\n",
       "        vertical-align: middle;\n",
       "    }\n",
       "\n",
       "    .dataframe tbody tr th {\n",
       "        vertical-align: top;\n",
       "    }\n",
       "\n",
       "    .dataframe thead th {\n",
       "        text-align: right;\n",
       "    }\n",
       "</style>\n",
       "<table border=\"1\" class=\"dataframe\">\n",
       "  <thead>\n",
       "    <tr style=\"text-align: right;\">\n",
       "      <th></th>\n",
       "      <th>Session</th>\n",
       "      <th>Student1</th>\n",
       "      <th>Student2</th>\n",
       "      <th>sum_score</th>\n",
       "      <th>years_elapsed</th>\n",
       "    </tr>\n",
       "  </thead>\n",
       "  <tbody>\n",
       "    <tr>\n",
       "      <th>0</th>\n",
       "      <td>1</td>\n",
       "      <td>Sonia</td>\n",
       "      <td>Adam</td>\n",
       "      <td>158</td>\n",
       "      <td>4</td>\n",
       "    </tr>\n",
       "    <tr>\n",
       "      <th>1</th>\n",
       "      <td>2</td>\n",
       "      <td>Kim</td>\n",
       "      <td>Sonia</td>\n",
       "      <td>182</td>\n",
       "      <td>4</td>\n",
       "    </tr>\n",
       "    <tr>\n",
       "      <th>2</th>\n",
       "      <td>3</td>\n",
       "      <td>John</td>\n",
       "      <td>Kim</td>\n",
       "      <td>192</td>\n",
       "      <td>7</td>\n",
       "    </tr>\n",
       "    <tr>\n",
       "      <th>3</th>\n",
       "      <td>4</td>\n",
       "      <td>Adam</td>\n",
       "      <td>John</td>\n",
       "      <td>168</td>\n",
       "      <td>6</td>\n",
       "    </tr>\n",
       "  </tbody>\n",
       "</table>\n",
       "</div>"
      ],
      "text/plain": [
       "   Session Student1 Student2  sum_score  years_elapsed\n",
       "0        1    Sonia     Adam        158              4\n",
       "1        2      Kim    Sonia        182              4\n",
       "2        3     John      Kim        192              7\n",
       "3        4     Adam     John        168              6"
      ]
     },
     "execution_count": 2,
     "metadata": {},
     "output_type": "execute_result"
    }
   ],
   "source": [
    "import pandas as pd\n",
    "\n",
    "data1 = {'Student': ['John','Kim','Adam','Sonia'],\n",
    "         'Score': [92,100,76,82],\n",
    "         'Year': [2015,2013,2016,2018]}\n",
    " \n",
    "df_students = pd.DataFrame(data1, columns=['Student','Score','Year'])\n",
    "\n",
    "data2 = {'Session': [1,2,3,4],\n",
    "         'Student1': ['Sonia','Kim','John','Adam'],\n",
    "         'Student2': ['Adam','Sonia','Kim','John']}\n",
    "\n",
    "df = pd.DataFrame(data2, columns=['Session','Student1','Student2'])\n",
    "\n",
    "# SOLUTION \n",
    "def sum_scores(student1, student2):\n",
    "    _score_s1 = df_students.loc[(df_students['Student']==student1)]['Score'].values[0]\n",
    "    _score_s2 = df_students.loc[(df_students['Student']==student2)]['Score'].values[0]\n",
    "    return  _score_s1 + _score_s2\n",
    "\n",
    "def years_elapsed(student1, student2):\n",
    "    _year = pd.to_datetime(\"today\").year\n",
    "    _year_s1 = df_students.loc[(df_students['Student']==student1)]['Year'].values[0]\n",
    "    _year_s2 = df_students.loc[(df_students['Student']==student2)]['Year'].values[0]\n",
    "    return _year - max(_year_s1, _year_s2)\n",
    "\n",
    "df['sum_score'] = df.apply(lambda row: sum_scores(row['Student1'], row['Student2']), axis=1)\n",
    "df['years_elapsed'] = df.apply(lambda row: years_elapsed(row['Student1'], row['Student2']), axis=1)\n",
    "\n",
    "df"
   ]
  },
  {
   "cell_type": "code",
   "execution_count": null,
   "metadata": {},
   "outputs": [],
   "source": []
  }
 ],
 "metadata": {
  "kernelspec": {
   "display_name": "Python 3",
   "language": "python",
   "name": "python3"
  },
  "language_info": {
   "codemirror_mode": {
    "name": "ipython",
    "version": 3
   },
   "file_extension": ".py",
   "mimetype": "text/x-python",
   "name": "python",
   "nbconvert_exporter": "python",
   "pygments_lexer": "ipython3",
   "version": "3.8.5"
  }
 },
 "nbformat": 4,
 "nbformat_minor": 4
}
