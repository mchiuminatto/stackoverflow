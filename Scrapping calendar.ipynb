{
 "cells": [
  {
   "cell_type": "code",
   "execution_count": 6,
   "metadata": {
    "ExecuteTime": {
     "end_time": "2022-01-03T18:14:54.591302Z",
     "start_time": "2022-01-03T18:14:53.267205Z"
    }
   },
   "outputs": [
    {
     "name": "stdout",
     "output_type": "stream",
     "text": [
      "ERROR! Session/line number was not unique in database. History logging moved to new session 3211\n",
      "['', '', 'MonJan', '3', '', 'All', 'Day', 'EUR', '', '', '', '', '', '', '', '', '', '', 'Italian', 'Bank', 'Holiday', '', '', '', '', '', '', '', '', '', '', '']\n",
      "['', '\\xa0', '', '', '', '', 'No', 'Data', 'Series', '', '', 'Details', '', '', '', '', '', '', '']\n",
      "['', 'No', 'Data', 'Series', '', '', 'Details', '', '', '']\n",
      "['', '', '', 'All', 'Day', 'GBP', '', '', '', '', '', '', '', '', '', '', 'Bank', 'Holiday', '', '', '', '', '', '', '', '', '', '', '']\n",
      "['', '\\xa0', '', '', '', '', 'No', 'Data', 'Series', '', '', 'Details', '', '', '', '', '', '', '']\n",
      "['', 'No', 'Data', 'Series', '', '', 'Details', '', '', '']\n",
      "['', '', '', '3:15am', 'EUR', '', '', '', '', '', '', '', '', '', '', 'Spanish', 'Manufacturing', 'PMI', '', '', '', '', '', '56.2', '56.3', '57.1', '', '', '', '']\n",
      "['', '\\xa0', '', '', '', '', '', 'Actual56.2', '', 'Forecast56.3', '', 'Previous57.1', '', '', 'Details', '', '', '', '', 'Graph', '', '', '', '', '', '', '']\n",
      "['', '', 'Actual56.2', '', 'Forecast56.3', '', 'Previous57.1', '', '', 'Details', '', '', '', '', 'Graph', '', '', '']\n",
      "['', '', '', '3:30am', 'CHF', '', '', '', '', '', '', '', '', '', '', 'Manufacturing', 'PMI', '', '', '', '', '', '62.7', '61.2', '62.5', '', '', '', '']\n",
      "['', '\\xa0', '', '', '', '', '', 'Actual62.7', '', 'Forecast61.2', '', 'Previous62.5', '', '', 'Details', '', '', '', '', 'Graph', '', '', '', '', '', '', '']\n",
      "['', '', 'Actual62.7', '', 'Forecast61.2', '', 'Previous62.5', '', '', 'Details', '', '', '', '', 'Graph', '', '', '']\n",
      "['', '', '', '3:45am', 'EUR', '', '', '', '', '', '', '', '', '', '', 'Italian', 'Manufacturing', 'PMI', '', '', '', '', '', '62.0', '61.6', '62.8', '', '', '', '']\n",
      "['', '\\xa0', '', '', '', '', '', 'Actual62.0', '', 'Forecast61.6', '', 'Previous62.8', '', '', 'Details', '', '', '', '', 'Graph', '', '', '', '', '', '', '']\n",
      "['', '', 'Actual62.0', '', 'Forecast61.6', '', 'Previous62.8', '', '', 'Details', '', '', '', '', 'Graph', '', '', '']\n",
      "['', '', '', '3:50am', 'EUR', '', '', '', '', '', '', '', '', '', '', 'French', 'Final', 'Manufacturing', 'PMI', '', '', '', '', '', '55.6', '54.9', '54.9', '', '', '', '']\n",
      "['', '\\xa0', '', '', '', '', '', 'Actual55.6', '', 'Forecast54.9', '', 'Previous54.9', '', '', 'Details', '', '', '', '', 'Graph', '', '', '', '', '', '', '']\n",
      "['', '', 'Actual55.6', '', 'Forecast54.9', '', 'Previous54.9', '', '', 'Details', '', '', '', '', 'Graph', '', '', '']\n",
      "['', '', '', '3:55am', 'EUR', '', '', '', '', '', '', '', '', '', '', 'German', 'Final', 'Manufacturing', 'PMI', '', '', '', '', '', '57.4', '57.9', '57.9', '', '', '', '']\n",
      "['', '\\xa0', '', '', '', '', '', 'Actual57.4', '', 'Forecast57.9', '', 'Previous57.9', '', '', 'Details', '', '', '', '', 'Graph', '', '', '', '', '', '', '']\n",
      "['', '', 'Actual57.4', '', 'Forecast57.9', '', 'Previous57.9', '', '', 'Details', '', '', '', '', 'Graph', '', '', '']\n",
      "['', '', '', '4:00am', 'EUR', '', '', '', '', '', '', '', '', '', '', 'Final', 'Manufacturing', 'PMI', '', '', '', '', '', '58.0', '58.0', '58.0', '', '', '', '']\n",
      "['', '\\xa0', '', '', '', '', '', 'Actual58.0', '', 'Forecast58.0', '', 'Previous58.0', '', '', 'Details', '', '', '', '', 'Graph', '', '', '', '', '', '', '']\n",
      "['', '', 'Actual58.0', '', 'Forecast58.0', '', 'Previous58.0', '', '', 'Details', '', '', '', '', 'Graph', '', '', '']\n",
      "['', '', '', 'All', 'Day', 'CAD', '', '', '', '', '', '', '', '', '', '', 'Bank', 'Holiday', '', '', '', '', '', '', '', '', '', '', '']\n",
      "['', '\\xa0', '', '', '', '', 'No', 'Data', 'Series', '', '', 'Details', '', '', '', '', '', '', '']\n",
      "['', 'No', 'Data', 'Series', '', '', 'Details', '', '', '']\n",
      "['', '', '', 'All', 'Day', 'USD', '', '', '', '', '', '', '', '', '', '', 'Bank', 'Holiday', '', '', '', '', '', '', '', '', '', '', '']\n",
      "['', '\\xa0', '', '', '', '', 'No', 'Data', 'Series', '', '', 'Details', '', '', '', '', '', '', '']\n",
      "['', 'No', 'Data', 'Series', '', '', 'Details', '', '', '']\n",
      "['', '', '', '9:45am', 'USD', '', '', '', '', '', '', '', '', '', '', 'Final', 'Manufacturing', 'PMI', '', '', '', '', '', '57.7', '57.7', '57.8', '', '', '', '']\n",
      "['', '\\xa0', '', '', '', '', '', 'Actual57.7', '', 'Forecast57.7', '', 'Previous57.8', '', '', 'Details', '', '', '', '', 'Graph', '', '', '', '', '', '', '']\n",
      "['', '', 'Actual57.7', '', 'Forecast57.7', '', 'Previous57.8', '', '', 'Details', '', '', '', '', 'Graph', '', '', '']\n",
      "['', '', '', '10:00am', 'USD', '', '', '', '', '', '', '', '', '', '', 'Construction', 'Spending', 'm/m', '', '', '', '', '', '0.4%', '0.8%', '0.4%', '', '', '', '']\n",
      "['', '\\xa0', '', '', '', '', '', 'Actual0.4%', '', 'Forecast0.8%', '', 'Previous0.4%', '', '', 'Details', '', '', '', '', 'Graph', '', '', '', '', '', '', '']\n",
      "['', '', 'Actual0.4%', '', 'Forecast0.8%', '', 'Previous0.4%', '', '', 'Details', '', '', '', '', 'Graph', '', '', '']\n",
      "['', '', '', 'All', 'Day', 'NZD', '', '', '', '', '', '', '', '', '', '', 'Bank', 'Holiday', '', '', '', '', '', '', '', '', '', '', '']\n",
      "['', '\\xa0', '', '', '', '', 'No', 'Data', 'Series', '', '', 'Details', '', '', '', '', '', '', '']\n",
      "['', 'No', 'Data', 'Series', '', '', 'Details', '', '', '']\n",
      "['', '', '', '', '\\xa07:01pm', 'GBP', '', '', '', '', '', '', '', '', '', '', 'BRC', 'Shop', 'Price', 'Index', 'y/y', '', '', '', '', '', '', '', '0.3%', '', '', '', '']\n",
      "['', '\\xa0', '', '', '', '', '', 'Actual\\xa0', '', 'Forecast\\xa0', '', 'Previous0.3%', '', '', 'Details', '', '', '', '', 'Graph', '', '', '', '', '', '', '']\n",
      "['', '', 'Actual\\xa0', '', 'Forecast\\xa0', '', 'Previous0.3%', '', '', 'Details', '', '', '', '', 'Graph', '', '', '']\n",
      "['', '', '', '7:30pm', 'JPY', '', '', '', '', '', '', '', '', '', '', 'Final', 'Manufacturing', 'PMI', '', '', '', '', '', '', '54.3', '54.2', '', '', '', '']\n",
      "['', '\\xa0', '', '', '', '', '', 'Actual\\xa0', '', 'Forecast54.3', '', 'Previous54.2', '', '', 'Details', '', '', '', '', 'Graph', '', '', '', '', '', '', '']\n",
      "['', '', 'Actual\\xa0', '', 'Forecast54.3', '', 'Previous54.2', '', '', 'Details', '', '', '', '', 'Graph', '', '', '']\n",
      "['', '', '', '8:45pm', 'CNY', '', '', '', '', '', '', '', '', '', '', 'Caixin', 'Manufacturing', 'PMI', '', '', '', '', '', '', '50.1', '49.9', '', '', '', '']\n",
      "['', '\\xa0', '', '', '', '', '', 'Actual\\xa0', '', 'Forecast50.1', '', 'Previous49.9', '', '', 'Details', '', '', '', '', 'Graph', '', '', '', '', '', '', '']\n",
      "['', '', 'Actual\\xa0', '', 'Forecast50.1', '', 'Previous49.9', '', '', 'Details', '', '', '', '', 'Graph', '', '', '']\n"
     ]
    }
   ],
   "source": [
    "from bs4 import BeautifulSoup\n",
    "import cloudscraper\n",
    "import pandas as pd\n",
    "\n",
    "scraper=cloudscraper.CloudScraper()\n",
    "Scrape=scraper.get('https://www.forexfactory.com/')\n",
    "html_text=Scrape.content\n",
    "soup=BeautifulSoup(html_text,'lxml')  \n",
    "table=soup.find('table',class_='calendar__table')\n",
    "\n",
    "#extracting news from the body of the \n",
    "\n",
    "table_row=table.find_all('tr')\n",
    "rows=[]\n",
    "for i,row in enumerate(table_row):\n",
    "    if i<4:\n",
    "        continue\n",
    "    else:\n",
    "        _text = row.text.replace('\\n','')\n",
    "        \n",
    "        print(_text.split(' '))"
   ]
  },
  {
   "cell_type": "code",
   "execution_count": null,
   "metadata": {},
   "outputs": [],
   "source": []
  }
 ],
 "metadata": {
  "kernelspec": {
   "display_name": "Python 3",
   "language": "python",
   "name": "python3"
  },
  "language_info": {
   "codemirror_mode": {
    "name": "ipython",
    "version": 3
   },
   "file_extension": ".py",
   "mimetype": "text/x-python",
   "name": "python",
   "nbconvert_exporter": "python",
   "pygments_lexer": "ipython3",
   "version": "3.8.5"
  },
  "toc": {
   "base_numbering": 1,
   "nav_menu": {},
   "number_sections": true,
   "sideBar": true,
   "skip_h1_title": false,
   "title_cell": "Table of Contents",
   "title_sidebar": "Contents",
   "toc_cell": false,
   "toc_position": {},
   "toc_section_display": true,
   "toc_window_display": false
  }
 },
 "nbformat": 4,
 "nbformat_minor": 4
}
