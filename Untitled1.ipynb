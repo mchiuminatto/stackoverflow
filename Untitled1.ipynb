{
 "cells": [
  {
   "cell_type": "markdown",
   "metadata": {},
   "source": [
    "# Sort Strings"
   ]
  },
  {
   "cell_type": "code",
   "execution_count": 1,
   "metadata": {
    "ExecuteTime": {
     "end_time": "2021-12-27T09:47:00.150655Z",
     "start_time": "2021-12-27T09:47:00.143655Z"
    }
   },
   "outputs": [],
   "source": []
  },
  {
   "cell_type": "code",
   "execution_count": 5,
   "metadata": {
    "ExecuteTime": {
     "end_time": "2021-12-27T09:49:26.183817Z",
     "start_time": "2021-12-27T09:49:26.157816Z"
    }
   },
   "outputs": [
    {
     "name": "stdout",
     "output_type": "stream",
     "text": [
      "['1', '1', '1', '3', '3', '3', '5', '5', '5', '7', '7', '7', '9', '9', '9', '0', '0', '2', '2', '2', '4', '4', '4', '6', '6', '6', '8', '8']\n"
     ]
    }
   ],
   "source": [
    "l = ['1', '3', '5', '7', '9', '1', '3', '5', '7', '9', '1', '3', '5', '7', '9', '0', '2', '4', '6', '8', '2', '4', '6', '8', '0', '2', '4', '6']\n",
    "l_even = list()\n",
    "l_odd = list()\n",
    "for n in l:\n",
    "    if int(n) % 2 == 0:\n",
    "        l_even.append(n)\n",
    "    else:\n",
    "        l_odd.append(n)\n",
    "\n",
    "l_even.sort()\n",
    "l_odd.sort()\n",
    "l_out = l_odd + l_even\n",
    "print(l_out)"
   ]
  },
  {
   "cell_type": "code",
   "execution_count": 3,
   "metadata": {
    "ExecuteTime": {
     "end_time": "2021-12-27T09:47:00.198662Z",
     "start_time": "2021-12-27T09:47:00.169657Z"
    }
   },
   "outputs": [
    {
     "data": {
      "text/plain": [
       "['1',\n",
       " '1',\n",
       " '1',\n",
       " '3',\n",
       " '3',\n",
       " '3',\n",
       " '5',\n",
       " '5',\n",
       " '5',\n",
       " '7',\n",
       " '7',\n",
       " '7',\n",
       " '9',\n",
       " '9',\n",
       " '9',\n",
       " '0',\n",
       " '0',\n",
       " '2',\n",
       " '2',\n",
       " '2',\n",
       " '4',\n",
       " '4',\n",
       " '4',\n",
       " '6',\n",
       " '6',\n",
       " '6',\n",
       " '8',\n",
       " '8']"
      ]
     },
     "execution_count": 3,
     "metadata": {},
     "output_type": "execute_result"
    }
   ],
   "source": [
    "l_out"
   ]
  },
  {
   "cell_type": "code",
   "execution_count": 4,
   "metadata": {
    "ExecuteTime": {
     "end_time": "2021-12-27T09:47:00.214662Z",
     "start_time": "2021-12-27T09:47:00.202660Z"
    }
   },
   "outputs": [
    {
     "data": {
      "text/plain": [
       "['1', '1', '1', '3', '3', '3', '5', '5', '5', '7', '7', '7', '9', '9', '9']"
      ]
     },
     "execution_count": 4,
     "metadata": {},
     "output_type": "execute_result"
    }
   ],
   "source": [
    "l_odd"
   ]
  },
  {
   "cell_type": "code",
   "execution_count": null,
   "metadata": {},
   "outputs": [],
   "source": []
  }
 ],
 "metadata": {
  "kernelspec": {
   "display_name": "Python 3",
   "language": "python",
   "name": "python3"
  },
  "language_info": {
   "codemirror_mode": {
    "name": "ipython",
    "version": 3
   },
   "file_extension": ".py",
   "mimetype": "text/x-python",
   "name": "python",
   "nbconvert_exporter": "python",
   "pygments_lexer": "ipython3",
   "version": "3.8.5"
  },
  "toc": {
   "base_numbering": 1,
   "nav_menu": {},
   "number_sections": true,
   "sideBar": true,
   "skip_h1_title": false,
   "title_cell": "Table of Contents",
   "title_sidebar": "Contents",
   "toc_cell": false,
   "toc_position": {},
   "toc_section_display": true,
   "toc_window_display": false
  }
 },
 "nbformat": 4,
 "nbformat_minor": 4
}
