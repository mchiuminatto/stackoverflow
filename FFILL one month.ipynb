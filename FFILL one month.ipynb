{
 "cells": [
  {
   "cell_type": "code",
   "execution_count": null,
   "metadata": {
    "ExecuteTime": {
     "end_time": "2022-01-04T18:17:50.454530Z",
     "start_time": "2022-01-04T18:17:50.446529Z"
    }
   },
   "outputs": [],
   "source": []
  },
  {
   "cell_type": "code",
   "execution_count": null,
   "metadata": {
    "ExecuteTime": {
     "end_time": "2022-01-04T18:26:05.617615Z",
     "start_time": "2022-01-04T18:26:04.878561Z"
    }
   },
   "outputs": [],
   "source": [
    "import pandas as pd\n",
    "\n",
    "df = pd.DataFrame(index=pd.date_range('2000-01-01', '2005-01-01', freq='D'))\n",
    "values_to_set = [{'value':3, 'from':'2000-01', 'to':'2000-05'}, \n",
    "                 {'value':5, 'from':'2000-06', 'to':'2000-09'}\n",
    "                ]\n",
    "\n",
    "for v in values_to_set:\n",
    "    df.loc[v['from']:v['to'], 'value'] = v['value']\n",
    "    \n",
    "df.loc['2000-09-28':'2000-10-02']"
   ]
  },
  {
   "cell_type": "code",
   "execution_count": null,
   "metadata": {
    "ExecuteTime": {
     "end_time": "2022-01-04T18:26:06.680696Z",
     "start_time": "2022-01-04T18:26:06.661695Z"
    }
   },
   "outputs": [],
   "source": [
    "import pandas as pd\n",
    "import numpy as np\n",
    "\n",
    "df = pd.DataFrame(index=pd.date_range('2000-01-01', '2005-01-01', freq='D'))\n",
    "\n",
    "df.loc['2000-02-01', 'value'] = 5\n",
    "df.loc['2000-05-01', 'value'] = 6\n",
    "\n",
    "df.loc['2000-10-01', 'value'] = -1  # set stop value\n",
    "\n",
    "df.ffill(inplace=True)\n",
    "df.replace(-1, np.nan, inplace=True)\n",
    "\n",
    "df.loc['2000-09-28':'2000-10-02']"
   ]
  },
  {
   "cell_type": "code",
   "execution_count": null,
   "metadata": {
    "ExecuteTime": {
     "end_time": "2022-01-04T18:26:07.749775Z",
     "start_time": "2022-01-04T18:26:07.732774Z"
    }
   },
   "outputs": [],
   "source": [
    "df.loc['2000-09-28':'2000-10-02']"
   ]
  },
  {
   "cell_type": "code",
   "execution_count": null,
   "metadata": {
    "ExecuteTime": {
     "end_time": "2022-01-04T18:45:28.868394Z",
     "start_time": "2022-01-04T18:45:28.837390Z"
    }
   },
   "outputs": [],
   "source": [
    "df.loc[['2000-10-01','2000-11-01'] , 'value'] = -1  # set stop value"
   ]
  },
  {
   "cell_type": "code",
   "execution_count": null,
   "metadata": {
    "ExecuteTime": {
     "end_time": "2022-01-04T18:55:20.285007Z",
     "start_time": "2022-01-04T18:55:20.278007Z"
    }
   },
   "outputs": [],
   "source": [
    "date_1 = pd.to_datetime('2000-10-01')"
   ]
  },
  {
   "cell_type": "code",
   "execution_count": null,
   "metadata": {
    "ExecuteTime": {
     "end_time": "2022-01-04T18:55:22.076963Z",
     "start_time": "2022-01-04T18:55:22.063962Z"
    }
   },
   "outputs": [],
   "source": [
    "date_1 + pd.DateOffset(months=1)"
   ]
  },
  {
   "cell_type": "code",
   "execution_count": null,
   "metadata": {
    "ExecuteTime": {
     "end_time": "2022-01-04T18:55:58.392758Z",
     "start_time": "2022-01-04T18:55:58.373754Z"
    }
   },
   "outputs": [],
   "source": [
    "df.index.day"
   ]
  },
  {
   "cell_type": "code",
   "execution_count": 1,
   "metadata": {
    "ExecuteTime": {
     "end_time": "2022-01-04T20:18:35.545594Z",
     "start_time": "2022-01-04T20:18:34.752534Z"
    }
   },
   "outputs": [
    {
     "name": "stdout",
     "output_type": "stream",
     "text": [
      "            value\n",
      "2000-02-28    NaN\n",
      "2000-02-29    NaN\n",
      "2000-03-01   -1.0\n",
      "2000-03-02    NaN\n",
      "            value\n",
      "2000-02-28    5.0\n",
      "2000-02-29    5.0\n",
      "2000-03-01    NaN\n",
      "2000-03-02    NaN\n",
      "            value\n",
      "2000-05-28    6.0\n",
      "2000-05-29    6.0\n",
      "2000-05-30    6.0\n",
      "2000-05-31    6.0\n",
      "2000-06-01    NaN\n",
      "2000-06-02    NaN\n"
     ]
    }
   ],
   "source": [
    "import pandas as pd\n",
    "import numpy as np\n",
    "\n",
    "df = pd.DataFrame(index=pd.date_range('2000-01-01', '2005-01-01', freq='D'))\n",
    "\n",
    "df.loc['2000-02-01', 'value'] = 5\n",
    "df.loc['2000-05-01', 'value'] = 6\n",
    "\n",
    "_mask_1 = ~df['value'].isna()  # filters non empty values\n",
    "_mask_2 = (df.index.day==1)  # filters 1st of each month\n",
    "\n",
    "df.loc[_mask_1,'tmp'] = -1  # marks non empty values on a temporal column\n",
    "\n",
    "df.loc[_mask_1|_mask_2, 'tmp'] =   df['tmp'][_mask_1|_mask_2].shift(1) # moves temp values one month ahead\n",
    "\n",
    "_mask_3 = df['tmp'] == -1  # filters nex month non empty\n",
    "df.loc[_mask_3, 'value'] = -1   # set stop value on 'value' column\n",
    "df.drop(columns='tmp', inplace=True)  # drops temporal column\n",
    "\n",
    "# shows the stop mark for march\n",
    "print(df['2000-02-28':'2000-03-02'])\n",
    "\n",
    "# perform the forward filling\n",
    "\n",
    "df.ffill(inplace=True)\n",
    "df.replace(-1, np.nan, inplace=True)\n",
    "\n",
    "print(df.loc['2000-02-28':'2000-03-02'])\n",
    "\n",
    "print(df.loc['2000-05-28':'2000-06-02'])"
   ]
  },
  {
   "cell_type": "code",
   "execution_count": null,
   "metadata": {
    "ExecuteTime": {
     "end_time": "2022-01-04T20:14:03.629314Z",
     "start_time": "2022-01-04T20:14:03.614314Z"
    }
   },
   "outputs": [],
   "source": [
    "df.loc['2000-05-28':'2000-06-02']"
   ]
  },
  {
   "cell_type": "code",
   "execution_count": null,
   "metadata": {
    "ExecuteTime": {
     "end_time": "2022-01-04T20:12:23.385880Z",
     "start_time": "2022-01-04T20:12:23.365881Z"
    }
   },
   "outputs": [],
   "source": []
  },
  {
   "cell_type": "code",
   "execution_count": null,
   "metadata": {
    "ExecuteTime": {
     "end_time": "2022-01-04T19:51:17.139837Z",
     "start_time": "2022-01-04T19:51:17.125836Z"
    }
   },
   "outputs": [],
   "source": [
    "df.index.get_loc(_mask.index)"
   ]
  },
  {
   "cell_type": "code",
   "execution_count": null,
   "metadata": {
    "ExecuteTime": {
     "end_time": "2022-01-04T19:48:45.291897Z",
     "start_time": "2022-01-04T19:48:45.285900Z"
    }
   },
   "outputs": [],
   "source": [
    "A1 = -1*np.sign(A0)"
   ]
  },
  {
   "cell_type": "code",
   "execution_count": null,
   "metadata": {
    "ExecuteTime": {
     "end_time": "2022-01-04T19:48:55.481731Z",
     "start_time": "2022-01-04T19:48:55.461733Z"
    }
   },
   "outputs": [],
   "source": []
  },
  {
   "cell_type": "code",
   "execution_count": null,
   "metadata": {
    "ExecuteTime": {
     "end_time": "2022-01-04T19:26:36.089426Z",
     "start_time": "2022-01-04T19:26:36.070427Z"
    }
   },
   "outputs": [],
   "source": [
    "list(df[_mask].index)\n",
    "for d in "
   ]
  },
  {
   "cell_type": "code",
   "execution_count": null,
   "metadata": {
    "ExecuteTime": {
     "end_time": "2022-01-04T19:21:14.649180Z",
     "start_time": "2022-01-04T19:21:14.637179Z"
    }
   },
   "outputs": [],
   "source": [
    "df[-value].apply(lambda row: df.loc[row.index + pd.DateOffset(month=1)])"
   ]
  },
  {
   "cell_type": "code",
   "execution_count": null,
   "metadata": {
    "ExecuteTime": {
     "end_time": "2022-01-04T19:21:19.269227Z",
     "start_time": "2022-01-04T19:21:19.254225Z"
    }
   },
   "outputs": [],
   "source": [
    "a"
   ]
  },
  {
   "cell_type": "code",
   "execution_count": null,
   "metadata": {},
   "outputs": [],
   "source": []
  }
 ],
 "metadata": {
  "kernelspec": {
   "display_name": "Python 3",
   "language": "python",
   "name": "python3"
  },
  "language_info": {
   "codemirror_mode": {
    "name": "ipython",
    "version": 3
   },
   "file_extension": ".py",
   "mimetype": "text/x-python",
   "name": "python",
   "nbconvert_exporter": "python",
   "pygments_lexer": "ipython3",
   "version": "3.8.5"
  },
  "toc": {
   "base_numbering": 1,
   "nav_menu": {},
   "number_sections": true,
   "sideBar": true,
   "skip_h1_title": false,
   "title_cell": "Table of Contents",
   "title_sidebar": "Contents",
   "toc_cell": false,
   "toc_position": {},
   "toc_section_display": true,
   "toc_window_display": false
  }
 },
 "nbformat": 4,
 "nbformat_minor": 4
}
