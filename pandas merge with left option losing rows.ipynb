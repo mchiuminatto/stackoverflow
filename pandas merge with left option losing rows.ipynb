{
 "cells": [
  {
   "cell_type": "code",
   "execution_count": null,
   "metadata": {
    "ExecuteTime": {
     "end_time": "2021-12-22T12:04:55.967376Z",
     "start_time": "2021-12-22T12:04:55.959375Z"
    }
   },
   "outputs": [],
   "source": []
  },
  {
   "cell_type": "code",
   "execution_count": 1,
   "metadata": {
    "ExecuteTime": {
     "end_time": "2021-12-22T12:11:09.456563Z",
     "start_time": "2021-12-22T12:11:06.840854Z"
    }
   },
   "outputs": [
    {
     "name": "stdout",
     "output_type": "stream",
     "text": [
      "python version  3.8.5 (tags/v3.8.5:580fbb0, Jul 20 2020, 15:57:54) [MSC v.1924 64 bit (AMD64)]\n",
      "Shape first (5000000, 1)\n",
      "Shape second (47000, 2)\n",
      "Shape new (5000000, 2)\n"
     ]
    }
   ],
   "source": [
    "import pandas as pd\n",
    "import numpy as np\n",
    "import sys\n",
    "\n",
    "\n",
    "print('python version ', sys.version)\n",
    "def get_mark(x):\n",
    "    # just random data\n",
    "    return np.random.normal(x, 2) \n",
    "\n",
    "# Simulate data\n",
    "first_series = np.random.randint(0, 47000, 5000000)\n",
    "first = pd.DataFrame(first_series, columns=['id'])\n",
    "\n",
    "second = pd.DataFrame(first['id'])\n",
    "second.drop_duplicates(inplace=True)\n",
    "second['mark'] = second['id'].apply(lambda x:get_mark(x))\n",
    "\n",
    "print('Shape first', first.shape)\n",
    "print('Shape second', second.shape)\n",
    "\n",
    "# merge\n",
    "new=first.merge(second,how='left',on='id')\n",
    "\n",
    "\n",
    "print('Shape new',  new.shape)"
   ]
  },
  {
   "cell_type": "code",
   "execution_count": null,
   "metadata": {
    "ExecuteTime": {
     "end_time": "2021-12-22T12:07:00.895781Z",
     "start_time": "2021-12-22T12:07:00.872782Z"
    }
   },
   "outputs": [],
   "source": [
    "__version__"
   ]
  },
  {
   "cell_type": "code",
   "execution_count": null,
   "metadata": {},
   "outputs": [],
   "source": []
  }
 ],
 "metadata": {
  "kernelspec": {
   "display_name": "Python 3",
   "language": "python",
   "name": "python3"
  },
  "language_info": {
   "codemirror_mode": {
    "name": "ipython",
    "version": 3
   },
   "file_extension": ".py",
   "mimetype": "text/x-python",
   "name": "python",
   "nbconvert_exporter": "python",
   "pygments_lexer": "ipython3",
   "version": "3.8.5"
  },
  "toc": {
   "base_numbering": 1,
   "nav_menu": {},
   "number_sections": true,
   "sideBar": true,
   "skip_h1_title": false,
   "title_cell": "Table of Contents",
   "title_sidebar": "Contents",
   "toc_cell": false,
   "toc_position": {},
   "toc_section_display": true,
   "toc_window_display": false
  }
 },
 "nbformat": 4,
 "nbformat_minor": 4
}
