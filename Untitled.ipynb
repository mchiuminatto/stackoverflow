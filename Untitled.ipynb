{
 "cells": [
  {
   "cell_type": "code",
   "execution_count": 9,
   "metadata": {
    "ExecuteTime": {
     "end_time": "2021-12-23T15:16:28.518402Z",
     "start_time": "2021-12-23T15:16:28.495399Z"
    }
   },
   "outputs": [
    {
     "name": "stdout",
     "output_type": "stream",
     "text": [
      "         Date       Open  Buy  Sell\n",
      "0   8/27/2019  36.270000    1     0\n",
      "1  10/11/2019  31.740000    0     1\n",
      "2   3/18/2020  28.320000    1     0\n",
      "3    6/3/2020  41.380001    0     1\n",
      "4  11/12/2020  61.610001    1     0\n",
      "5   12/2/2020  69.120003    0     1\n",
      "6   3/24/2021  64.500000    1     0\n",
      "7    6/7/2021  67.269997    0     1\n",
      "\n",
      "Buy 275.0 stocks at  36.27 Remaining budget 25.75\n",
      "Sold at  31.74 new budget is  8754.25\n",
      "Buy 309.0 stocks at  28.32 Remaining budget 3.37\n",
      "Sold at  41.38 new budget is  12789.79\n",
      "Buy 207.0 stocks at  61.61 Remaining budget 36.52\n",
      "Sold at  69.12 new budget is  14344.361\n",
      "Buy 222.0 stocks at  64.5 Remaining budget 25.361\n",
      "Sold at  67.27 new budget is  14959.3\n"
     ]
    },
    {
     "data": {
      "text/plain": [
       "14959.3"
      ]
     },
     "execution_count": 9,
     "metadata": {},
     "output_type": "execute_result"
    }
   ],
   "source": [
    "import pandas as pd\n",
    "\n",
    "df_stock = pd.DataFrame({'Date':['8/27/2019','10/11/2019','3/18/2020','6/3/2020','11/12/2020','12/2/2020','3/24/2021','6/7/2021'],\n",
    " 'Open':[36.27,31.74,28.32,41.380001,61.610001,69.120003,64.5,67.269997,],  \n",
    "'Buy':[1,0,1,0,1,0,1,0],\n",
    "'Sell':[0,1,0,1,0,1,0,1],\n",
    "})\n",
    "\n",
    "\n",
    "def profit(df, budget):\n",
    "    stocks = 0\n",
    "    for idx, r in df.iterrows():\n",
    "        if r['Buy'] ==1:\n",
    "            stocks = round(budget//r['Open'],3)\n",
    "            budget = round(budget%r['Open'] , 3)\n",
    "            print(f'Buy {stocks} stocks at ', round(r['Open'],3), f'Remaining budget {budget}')\n",
    "\n",
    "        if r['Sell'] == 1:\n",
    "            budget = round(stocks*r['Open'] + budget,3)\n",
    "            stocks = 0\n",
    "            print('Sold at ', round(r['Open'],3), 'new budget is ', budget)\n",
    "            \n",
    "    return budget\n",
    "\n",
    "\n",
    "print(df_stock)\n",
    "print('')\n",
    "\n",
    "profit(df_stock, 10000)"
   ]
  },
  {
   "cell_type": "code",
   "execution_count": 5,
   "metadata": {
    "ExecuteTime": {
     "end_time": "2021-12-23T15:15:30.461599Z",
     "start_time": "2021-12-23T15:15:30.439598Z"
    }
   },
   "outputs": [
    {
     "data": {
      "text/html": [
       "<div>\n",
       "<style scoped>\n",
       "    .dataframe tbody tr th:only-of-type {\n",
       "        vertical-align: middle;\n",
       "    }\n",
       "\n",
       "    .dataframe tbody tr th {\n",
       "        vertical-align: top;\n",
       "    }\n",
       "\n",
       "    .dataframe thead th {\n",
       "        text-align: right;\n",
       "    }\n",
       "</style>\n",
       "<table border=\"1\" class=\"dataframe\">\n",
       "  <thead>\n",
       "    <tr style=\"text-align: right;\">\n",
       "      <th></th>\n",
       "      <th>Date</th>\n",
       "      <th>Open</th>\n",
       "      <th>Buy</th>\n",
       "      <th>Sell</th>\n",
       "    </tr>\n",
       "  </thead>\n",
       "  <tbody>\n",
       "    <tr>\n",
       "      <th>0</th>\n",
       "      <td>8/27/2019</td>\n",
       "      <td>36.270000</td>\n",
       "      <td>1</td>\n",
       "      <td>0</td>\n",
       "    </tr>\n",
       "    <tr>\n",
       "      <th>1</th>\n",
       "      <td>10/11/2019</td>\n",
       "      <td>31.740000</td>\n",
       "      <td>0</td>\n",
       "      <td>1</td>\n",
       "    </tr>\n",
       "    <tr>\n",
       "      <th>2</th>\n",
       "      <td>3/18/2020</td>\n",
       "      <td>28.320000</td>\n",
       "      <td>1</td>\n",
       "      <td>0</td>\n",
       "    </tr>\n",
       "    <tr>\n",
       "      <th>3</th>\n",
       "      <td>6/3/2020</td>\n",
       "      <td>41.380001</td>\n",
       "      <td>0</td>\n",
       "      <td>1</td>\n",
       "    </tr>\n",
       "    <tr>\n",
       "      <th>4</th>\n",
       "      <td>11/12/2020</td>\n",
       "      <td>61.610001</td>\n",
       "      <td>1</td>\n",
       "      <td>0</td>\n",
       "    </tr>\n",
       "    <tr>\n",
       "      <th>5</th>\n",
       "      <td>12/2/2020</td>\n",
       "      <td>69.120003</td>\n",
       "      <td>0</td>\n",
       "      <td>1</td>\n",
       "    </tr>\n",
       "    <tr>\n",
       "      <th>6</th>\n",
       "      <td>3/24/2021</td>\n",
       "      <td>64.500000</td>\n",
       "      <td>1</td>\n",
       "      <td>0</td>\n",
       "    </tr>\n",
       "    <tr>\n",
       "      <th>7</th>\n",
       "      <td>6/7/2021</td>\n",
       "      <td>67.269997</td>\n",
       "      <td>0</td>\n",
       "      <td>1</td>\n",
       "    </tr>\n",
       "  </tbody>\n",
       "</table>\n",
       "</div>"
      ],
      "text/plain": [
       "         Date       Open  Buy  Sell\n",
       "0   8/27/2019  36.270000    1     0\n",
       "1  10/11/2019  31.740000    0     1\n",
       "2   3/18/2020  28.320000    1     0\n",
       "3    6/3/2020  41.380001    0     1\n",
       "4  11/12/2020  61.610001    1     0\n",
       "5   12/2/2020  69.120003    0     1\n",
       "6   3/24/2021  64.500000    1     0\n",
       "7    6/7/2021  67.269997    0     1"
      ]
     },
     "execution_count": 5,
     "metadata": {},
     "output_type": "execute_result"
    }
   ],
   "source": [
    "df_stock"
   ]
  },
  {
   "cell_type": "code",
   "execution_count": 6,
   "metadata": {
    "ExecuteTime": {
     "end_time": "2021-12-23T15:15:35.136910Z",
     "start_time": "2021-12-23T15:15:35.126908Z"
    }
   },
   "outputs": [
    {
     "name": "stdout",
     "output_type": "stream",
     "text": [
      "Buy 275.0 stocks at  36.27 Remaining budget 25.75\n",
      "Sold at  31.74 new budget is  8754.25\n",
      "Buy 309.0 stocks at  28.32 Remaining budget 3.37\n",
      "Sold at  41.38 new budget is  12789.79\n",
      "Buy 207.0 stocks at  61.61 Remaining budget 36.52\n",
      "Sold at  69.12 new budget is  14344.361\n",
      "Buy 222.0 stocks at  64.5 Remaining budget 25.361\n",
      "Sold at  67.27 new budget is  14959.3\n"
     ]
    },
    {
     "data": {
      "text/plain": [
       "14959.3"
      ]
     },
     "execution_count": 6,
     "metadata": {},
     "output_type": "execute_result"
    }
   ],
   "source": [
    "profit(df_stock, 10000)"
   ]
  },
  {
   "cell_type": "code",
   "execution_count": null,
   "metadata": {},
   "outputs": [],
   "source": []
  }
 ],
 "metadata": {
  "kernelspec": {
   "display_name": "Python 3",
   "language": "python",
   "name": "python3"
  },
  "language_info": {
   "codemirror_mode": {
    "name": "ipython",
    "version": 3
   },
   "file_extension": ".py",
   "mimetype": "text/x-python",
   "name": "python",
   "nbconvert_exporter": "python",
   "pygments_lexer": "ipython3",
   "version": "3.8.5"
  },
  "toc": {
   "base_numbering": 1,
   "nav_menu": {},
   "number_sections": true,
   "sideBar": true,
   "skip_h1_title": false,
   "title_cell": "Table of Contents",
   "title_sidebar": "Contents",
   "toc_cell": false,
   "toc_position": {},
   "toc_section_display": true,
   "toc_window_display": false
  }
 },
 "nbformat": 4,
 "nbformat_minor": 4
}
