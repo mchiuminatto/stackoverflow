{
 "cells": [
  {
   "cell_type": "code",
   "execution_count": 41,
   "metadata": {},
   "outputs": [],
   "source": [
    "import pandas  as pd\n",
    "import numpy as np"
   ]
  },
  {
   "cell_type": "code",
   "execution_count": 56,
   "metadata": {},
   "outputs": [
    {
     "name": "stdout",
     "output_type": "stream",
     "text": [
      "     email address  instance ID\n",
      "0    abc@gmail.com          158\n",
      "1    xyz@gmail.com          189\n",
      "2    abc@gmail.com          274\n",
      "3     ab@gmail.com          274\n",
      "4     bc@gmail.com          274\n",
      "5   abcd@gmail.com          274\n",
      "6  axxbc@gmail.com          274\n",
      "7    xyz@gmail.com          200\n"
     ]
    }
   ],
   "source": [
    "df = pd.read_csv('./data/mails.csv')\n",
    "print(df)"
   ]
  },
  {
   "cell_type": "code",
   "execution_count": 57,
   "metadata": {},
   "outputs": [
    {
     "name": "stdout",
     "output_type": "stream",
     "text": [
      "                 instance ID\n",
      "email address               \n",
      "ab@gmail.com               1\n",
      "abc@gmail.com              2\n",
      "abcd@gmail.com             1\n",
      "axxbc@gmail.com            1\n",
      "bc@gmail.com               1\n",
      "xyz@gmail.com              2\n"
     ]
    }
   ],
   "source": [
    "# count instances by mail\n",
    "print(df.groupby(by='email address').count())"
   ]
  },
  {
   "cell_type": "code",
   "execution_count": 94,
   "metadata": {},
   "outputs": [
    {
     "ename": "SyntaxError",
     "evalue": "unexpected EOF while parsing (<ipython-input-94-ea865e7bf822>, line 2)",
     "output_type": "error",
     "traceback": [
      "\u001b[1;36m  File \u001b[1;32m\"<ipython-input-94-ea865e7bf822>\"\u001b[1;36m, line \u001b[1;32m2\u001b[0m\n\u001b[1;33m    df.pivot_table(index=['email address',  'instance ID'], columns=df['instance ID'], values='instance ID'\u001b[0m\n\u001b[1;37m                                                                                                           ^\u001b[0m\n\u001b[1;31mSyntaxError\u001b[0m\u001b[1;31m:\u001b[0m unexpected EOF while parsing\n"
     ]
    }
   ],
   "source": [
    "# instances by mail\n",
    "df.pivot_table(index=['email address',  'instance ID'], columns=df['instance ID'], values='instance ID'"
   ]
  },
  {
   "cell_type": "code",
   "execution_count": null,
   "metadata": {},
   "outputs": [],
   "source": []
  }
 ],
 "metadata": {
  "kernelspec": {
   "display_name": "Python 3",
   "language": "python",
   "name": "python3"
  },
  "language_info": {
   "codemirror_mode": {
    "name": "ipython",
    "version": 3
   },
   "file_extension": ".py",
   "mimetype": "text/x-python",
   "name": "python",
   "nbconvert_exporter": "python",
   "pygments_lexer": "ipython3",
   "version": "3.8.5"
  }
 },
 "nbformat": 4,
 "nbformat_minor": 4
}
