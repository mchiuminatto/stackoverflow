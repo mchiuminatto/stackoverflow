{
 "cells": [
  {
   "cell_type": "code",
   "execution_count": 3,
   "metadata": {
    "ExecuteTime": {
     "end_time": "2021-12-22T21:39:06.725955Z",
     "start_time": "2021-12-22T21:39:06.722956Z"
    }
   },
   "outputs": [],
   "source": [
    "import pandas as pd\n",
    "import numpy as np"
   ]
  },
  {
   "cell_type": "code",
   "execution_count": 128,
   "metadata": {
    "ExecuteTime": {
     "end_time": "2021-12-23T00:17:39.885629Z",
     "start_time": "2021-12-23T00:17:39.846628Z"
    }
   },
   "outputs": [],
   "source": [
    "data = np.array([['2020-08-01',10, 5, \"item1\", 'AF'],\n",
    "                ['2020-08-01', 2, 4, \"item1\", \"QF\"],\n",
    "                ['2020-09-01', 15, 30, \"item1\", \"AF\"],\n",
    "                ['2020-09-01', 10, 5, \"item1\", \"QF\"]])\n",
    "df = pd.DataFrame(data=data, columns=['Month', 'ExpectedQty', 'ActualQty', 'ProductID', 'Warehouse'])\n",
    "\n",
    "pivot_table = df.pivot_table(columns=df.Month,\n",
    "                            values=['ActualQty', 'ExpectedQty'],\n",
    "                            index=[df['ProductID'], df['Warehouse']],\n",
    "                            fill_value='')\n",
    "pivot_table.columns = pivot_table.columns.swaplevel(0, 1)\n",
    "pivot_table.sort_index(axis=1, level=0, inplace=True)"
   ]
  },
  {
   "cell_type": "code",
   "execution_count": 129,
   "metadata": {
    "ExecuteTime": {
     "end_time": "2021-12-23T00:17:40.368665Z",
     "start_time": "2021-12-23T00:17:40.350664Z"
    }
   },
   "outputs": [
    {
     "data": {
      "text/html": [
       "<div>\n",
       "<style scoped>\n",
       "    .dataframe tbody tr th:only-of-type {\n",
       "        vertical-align: middle;\n",
       "    }\n",
       "\n",
       "    .dataframe tbody tr th {\n",
       "        vertical-align: top;\n",
       "    }\n",
       "\n",
       "    .dataframe thead th {\n",
       "        text-align: right;\n",
       "    }\n",
       "</style>\n",
       "<table border=\"1\" class=\"dataframe\">\n",
       "  <thead>\n",
       "    <tr style=\"text-align: right;\">\n",
       "      <th></th>\n",
       "      <th>Month</th>\n",
       "      <th>ExpectedQty</th>\n",
       "      <th>ActualQty</th>\n",
       "      <th>ProductID</th>\n",
       "      <th>Warehouse</th>\n",
       "    </tr>\n",
       "  </thead>\n",
       "  <tbody>\n",
       "    <tr>\n",
       "      <th>0</th>\n",
       "      <td>2020-08-01</td>\n",
       "      <td>10</td>\n",
       "      <td>5</td>\n",
       "      <td>item1</td>\n",
       "      <td>AF</td>\n",
       "    </tr>\n",
       "    <tr>\n",
       "      <th>1</th>\n",
       "      <td>2020-08-01</td>\n",
       "      <td>2</td>\n",
       "      <td>4</td>\n",
       "      <td>item1</td>\n",
       "      <td>QF</td>\n",
       "    </tr>\n",
       "    <tr>\n",
       "      <th>2</th>\n",
       "      <td>2020-09-01</td>\n",
       "      <td>15</td>\n",
       "      <td>30</td>\n",
       "      <td>item1</td>\n",
       "      <td>AF</td>\n",
       "    </tr>\n",
       "    <tr>\n",
       "      <th>3</th>\n",
       "      <td>2020-09-01</td>\n",
       "      <td>10</td>\n",
       "      <td>5</td>\n",
       "      <td>item1</td>\n",
       "      <td>QF</td>\n",
       "    </tr>\n",
       "  </tbody>\n",
       "</table>\n",
       "</div>"
      ],
      "text/plain": [
       "        Month ExpectedQty ActualQty ProductID Warehouse\n",
       "0  2020-08-01          10         5     item1        AF\n",
       "1  2020-08-01           2         4     item1        QF\n",
       "2  2020-09-01          15        30     item1        AF\n",
       "3  2020-09-01          10         5     item1        QF"
      ]
     },
     "execution_count": 129,
     "metadata": {},
     "output_type": "execute_result"
    }
   ],
   "source": [
    "df"
   ]
  },
  {
   "cell_type": "code",
   "execution_count": 131,
   "metadata": {
    "ExecuteTime": {
     "end_time": "2021-12-23T00:17:58.323716Z",
     "start_time": "2021-12-23T00:17:58.301717Z"
    }
   },
   "outputs": [
    {
     "data": {
      "text/html": [
       "<div>\n",
       "<style scoped>\n",
       "    .dataframe tbody tr th:only-of-type {\n",
       "        vertical-align: middle;\n",
       "    }\n",
       "\n",
       "    .dataframe tbody tr th {\n",
       "        vertical-align: top;\n",
       "    }\n",
       "\n",
       "    .dataframe thead tr th {\n",
       "        text-align: left;\n",
       "    }\n",
       "\n",
       "    .dataframe thead tr:last-of-type th {\n",
       "        text-align: right;\n",
       "    }\n",
       "</style>\n",
       "<table border=\"1\" class=\"dataframe\">\n",
       "  <thead>\n",
       "    <tr>\n",
       "      <th></th>\n",
       "      <th></th>\n",
       "      <th colspan=\"2\" halign=\"left\">ExpectedQty</th>\n",
       "      <th colspan=\"2\" halign=\"left\">ActualQty</th>\n",
       "    </tr>\n",
       "    <tr>\n",
       "      <th></th>\n",
       "      <th>Month</th>\n",
       "      <th>2020-08-01</th>\n",
       "      <th>2020-09-01</th>\n",
       "      <th>2020-08-01</th>\n",
       "      <th>2020-09-01</th>\n",
       "    </tr>\n",
       "    <tr>\n",
       "      <th>ProductID</th>\n",
       "      <th>Warehouse</th>\n",
       "      <th></th>\n",
       "      <th></th>\n",
       "      <th></th>\n",
       "      <th></th>\n",
       "    </tr>\n",
       "  </thead>\n",
       "  <tbody>\n",
       "    <tr>\n",
       "      <th rowspan=\"2\" valign=\"top\">item1</th>\n",
       "      <th>AF</th>\n",
       "      <td>10</td>\n",
       "      <td>15</td>\n",
       "      <td>5</td>\n",
       "      <td>30</td>\n",
       "    </tr>\n",
       "    <tr>\n",
       "      <th>QF</th>\n",
       "      <td>2</td>\n",
       "      <td>10</td>\n",
       "      <td>4</td>\n",
       "      <td>5</td>\n",
       "    </tr>\n",
       "  </tbody>\n",
       "</table>\n",
       "</div>"
      ],
      "text/plain": [
       "                    ExpectedQty             ActualQty           \n",
       "Month                2020-08-01 2020-09-01 2020-08-01 2020-09-01\n",
       "ProductID Warehouse                                             \n",
       "item1     AF                 10         15          5         30\n",
       "          QF                  2         10          4          5"
      ]
     },
     "execution_count": 131,
     "metadata": {},
     "output_type": "execute_result"
    }
   ],
   "source": [
    "df.pivot( index=['ProductID', 'Warehouse'], columns=['Month'], values=['ExpectedQty','ActualQty'])"
   ]
  },
  {
   "cell_type": "code",
   "execution_count": 132,
   "metadata": {
    "ExecuteTime": {
     "end_time": "2021-12-23T00:18:17.267060Z",
     "start_time": "2021-12-23T00:18:17.239058Z"
    }
   },
   "outputs": [],
   "source": [
    "data = np.array([\n",
    "\t\t\t\t['2020-08-01',\"Expected\", 10, \"item1\", 'AF'],\n",
    "\t\t\t\t['2020-08-01',\"Actual\", 5, \"item1\", 'AF'],\n",
    "                 ['2020-08-01', \"Expected\", 2,  \"item1\", \"QF\"],\n",
    "                 ['2020-08-01', \"Actual\", 4, \"item1\", \"QF\"],\n",
    "                 ['2020-09-01', \"Expected\", 15, \"item1\", \"AF\"],\n",
    "                 ['2020-09-01', \"Actual\", 30, \"item1\", \"AF\"],\n",
    "                 ['2020-09-01', \"Expected\", 10,\"item1\", \"QF\"],\n",
    "                 ['2020-09-01',  \"Actual\", 5, \"item1\", \"QF\"]])\n",
    "    \n",
    "df = pd.DataFrame(data=data, columns=['Month', 'Type', 'Qty', 'ProductID', 'Warehouse'])\n",
    "df['Month'] = pd.to_datetime(df['Month'])\n",
    "# df.set_index('Month', inplace=True)"
   ]
  },
  {
   "cell_type": "code",
   "execution_count": 133,
   "metadata": {
    "ExecuteTime": {
     "end_time": "2021-12-23T00:18:18.056399Z",
     "start_time": "2021-12-23T00:18:18.022398Z"
    }
   },
   "outputs": [
    {
     "data": {
      "text/html": [
       "<div>\n",
       "<style scoped>\n",
       "    .dataframe tbody tr th:only-of-type {\n",
       "        vertical-align: middle;\n",
       "    }\n",
       "\n",
       "    .dataframe tbody tr th {\n",
       "        vertical-align: top;\n",
       "    }\n",
       "\n",
       "    .dataframe thead th {\n",
       "        text-align: right;\n",
       "    }\n",
       "</style>\n",
       "<table border=\"1\" class=\"dataframe\">\n",
       "  <thead>\n",
       "    <tr style=\"text-align: right;\">\n",
       "      <th></th>\n",
       "      <th>Month</th>\n",
       "      <th>Type</th>\n",
       "      <th>Qty</th>\n",
       "      <th>ProductID</th>\n",
       "      <th>Warehouse</th>\n",
       "    </tr>\n",
       "  </thead>\n",
       "  <tbody>\n",
       "    <tr>\n",
       "      <th>0</th>\n",
       "      <td>2020-08-01</td>\n",
       "      <td>Expected</td>\n",
       "      <td>10</td>\n",
       "      <td>item1</td>\n",
       "      <td>AF</td>\n",
       "    </tr>\n",
       "    <tr>\n",
       "      <th>1</th>\n",
       "      <td>2020-08-01</td>\n",
       "      <td>Actual</td>\n",
       "      <td>5</td>\n",
       "      <td>item1</td>\n",
       "      <td>AF</td>\n",
       "    </tr>\n",
       "    <tr>\n",
       "      <th>2</th>\n",
       "      <td>2020-08-01</td>\n",
       "      <td>Expected</td>\n",
       "      <td>2</td>\n",
       "      <td>item1</td>\n",
       "      <td>QF</td>\n",
       "    </tr>\n",
       "    <tr>\n",
       "      <th>3</th>\n",
       "      <td>2020-08-01</td>\n",
       "      <td>Actual</td>\n",
       "      <td>4</td>\n",
       "      <td>item1</td>\n",
       "      <td>QF</td>\n",
       "    </tr>\n",
       "    <tr>\n",
       "      <th>4</th>\n",
       "      <td>2020-09-01</td>\n",
       "      <td>Expected</td>\n",
       "      <td>15</td>\n",
       "      <td>item1</td>\n",
       "      <td>AF</td>\n",
       "    </tr>\n",
       "    <tr>\n",
       "      <th>5</th>\n",
       "      <td>2020-09-01</td>\n",
       "      <td>Actual</td>\n",
       "      <td>30</td>\n",
       "      <td>item1</td>\n",
       "      <td>AF</td>\n",
       "    </tr>\n",
       "    <tr>\n",
       "      <th>6</th>\n",
       "      <td>2020-09-01</td>\n",
       "      <td>Expected</td>\n",
       "      <td>10</td>\n",
       "      <td>item1</td>\n",
       "      <td>QF</td>\n",
       "    </tr>\n",
       "    <tr>\n",
       "      <th>7</th>\n",
       "      <td>2020-09-01</td>\n",
       "      <td>Actual</td>\n",
       "      <td>5</td>\n",
       "      <td>item1</td>\n",
       "      <td>QF</td>\n",
       "    </tr>\n",
       "  </tbody>\n",
       "</table>\n",
       "</div>"
      ],
      "text/plain": [
       "       Month      Type Qty ProductID Warehouse\n",
       "0 2020-08-01  Expected  10     item1        AF\n",
       "1 2020-08-01    Actual   5     item1        AF\n",
       "2 2020-08-01  Expected   2     item1        QF\n",
       "3 2020-08-01    Actual   4     item1        QF\n",
       "4 2020-09-01  Expected  15     item1        AF\n",
       "5 2020-09-01    Actual  30     item1        AF\n",
       "6 2020-09-01  Expected  10     item1        QF\n",
       "7 2020-09-01    Actual   5     item1        QF"
      ]
     },
     "execution_count": 133,
     "metadata": {},
     "output_type": "execute_result"
    }
   ],
   "source": [
    "df"
   ]
  },
  {
   "cell_type": "code",
   "execution_count": 134,
   "metadata": {
    "ExecuteTime": {
     "end_time": "2021-12-23T00:18:19.005250Z",
     "start_time": "2021-12-23T00:18:18.960247Z"
    },
    "scrolled": true
   },
   "outputs": [
    {
     "data": {
      "text/html": [
       "<div>\n",
       "<style scoped>\n",
       "    .dataframe tbody tr th:only-of-type {\n",
       "        vertical-align: middle;\n",
       "    }\n",
       "\n",
       "    .dataframe tbody tr th {\n",
       "        vertical-align: top;\n",
       "    }\n",
       "\n",
       "    .dataframe thead tr th {\n",
       "        text-align: left;\n",
       "    }\n",
       "\n",
       "    .dataframe thead tr:last-of-type th {\n",
       "        text-align: right;\n",
       "    }\n",
       "</style>\n",
       "<table border=\"1\" class=\"dataframe\">\n",
       "  <thead>\n",
       "    <tr>\n",
       "      <th>ProductID</th>\n",
       "      <th>Warehouse</th>\n",
       "    </tr>\n",
       "  </thead>\n",
       "  <tbody>\n",
       "    <tr>\n",
       "      <th rowspan=\"2\" valign=\"top\">item1</th>\n",
       "      <th>AF</th>\n",
       "    </tr>\n",
       "    <tr>\n",
       "      <th>QF</th>\n",
       "    </tr>\n",
       "  </tbody>\n",
       "</table>\n",
       "</div>"
      ],
      "text/plain": [
       "Empty DataFrame\n",
       "Columns: []\n",
       "Index: [(item1, AF), (item1, QF)]"
      ]
     },
     "execution_count": 134,
     "metadata": {},
     "output_type": "execute_result"
    }
   ],
   "source": [
    "pd.pivot_table(df, index=['ProductID', 'Warehouse'], columns=['Month'], values=['Type'], aggfunc=np.sum, observed=True)"
   ]
  },
  {
   "cell_type": "code",
   "execution_count": 135,
   "metadata": {
    "ExecuteTime": {
     "end_time": "2021-12-23T12:22:53.983306Z",
     "start_time": "2021-12-23T12:22:53.925300Z"
    }
   },
   "outputs": [
    {
     "data": {
      "text/plain": [
       "{0, 2, 4, 6, 8}"
      ]
     },
     "execution_count": 135,
     "metadata": {},
     "output_type": "execute_result"
    }
   ],
   "source": [
    "{s for s in range(0, 10) if s%2 == 0}"
   ]
  },
  {
   "cell_type": "code",
   "execution_count": null,
   "metadata": {},
   "outputs": [],
   "source": []
  }
 ],
 "metadata": {
  "kernelspec": {
   "display_name": "Python 3",
   "language": "python",
   "name": "python3"
  },
  "language_info": {
   "codemirror_mode": {
    "name": "ipython",
    "version": 3
   },
   "file_extension": ".py",
   "mimetype": "text/x-python",
   "name": "python",
   "nbconvert_exporter": "python",
   "pygments_lexer": "ipython3",
   "version": "3.8.5"
  },
  "toc": {
   "base_numbering": 1,
   "nav_menu": {},
   "number_sections": true,
   "sideBar": true,
   "skip_h1_title": false,
   "title_cell": "Table of Contents",
   "title_sidebar": "Contents",
   "toc_cell": false,
   "toc_position": {},
   "toc_section_display": true,
   "toc_window_display": false
  }
 },
 "nbformat": 4,
 "nbformat_minor": 4
}
