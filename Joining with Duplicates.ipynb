{
 "cells": [
  {
   "cell_type": "markdown",
   "metadata": {},
   "source": [
    "# Joining with Duplicates"
   ]
  },
  {
   "cell_type": "code",
   "execution_count": 3,
   "metadata": {},
   "outputs": [
    {
     "data": {
      "text/html": [
       "<div>\n",
       "<style scoped>\n",
       "    .dataframe tbody tr th:only-of-type {\n",
       "        vertical-align: middle;\n",
       "    }\n",
       "\n",
       "    .dataframe tbody tr th {\n",
       "        vertical-align: top;\n",
       "    }\n",
       "\n",
       "    .dataframe thead th {\n",
       "        text-align: right;\n",
       "    }\n",
       "</style>\n",
       "<table border=\"1\" class=\"dataframe\">\n",
       "  <thead>\n",
       "    <tr style=\"text-align: right;\">\n",
       "      <th></th>\n",
       "      <th>x</th>\n",
       "      <th>y</th>\n",
       "      <th>z</th>\n",
       "      <th>v</th>\n",
       "      <th>w</th>\n",
       "      <th>u</th>\n",
       "    </tr>\n",
       "    <tr>\n",
       "      <th>k</th>\n",
       "      <th></th>\n",
       "      <th></th>\n",
       "      <th></th>\n",
       "      <th></th>\n",
       "      <th></th>\n",
       "      <th></th>\n",
       "    </tr>\n",
       "  </thead>\n",
       "  <tbody>\n",
       "    <tr>\n",
       "      <th>0</th>\n",
       "      <td>x0</td>\n",
       "      <td>y0</td>\n",
       "      <td>z0</td>\n",
       "      <td>v0</td>\n",
       "      <td>w0</td>\n",
       "      <td>u0</td>\n",
       "    </tr>\n",
       "    <tr>\n",
       "      <th>1</th>\n",
       "      <td>x1</td>\n",
       "      <td>y1</td>\n",
       "      <td>z1</td>\n",
       "      <td>v1</td>\n",
       "      <td>w1</td>\n",
       "      <td>u1</td>\n",
       "    </tr>\n",
       "  </tbody>\n",
       "</table>\n",
       "</div>"
      ],
      "text/plain": [
       "    x   y   z   v   w   u\n",
       "k                        \n",
       "0  x0  y0  z0  v0  w0  u0\n",
       "1  x1  y1  z1  v1  w1  u1"
      ]
     },
     "execution_count": 3,
     "metadata": {},
     "output_type": "execute_result"
    }
   ],
   "source": [
    "import pandas as pd\n",
    "\n",
    "df1 = pd.DataFrame({'k':[0, 1, 2, 3],\n",
    "                    'x':['x0', 'x1', 'x2', 'x3'],\n",
    "                    'y':['y0', 'y1', 'y2', 'y3'],\n",
    "                    'z':['z0', 'z1', 'z2', 'z3']\n",
    "                   })\n",
    "df1.set_index('k', inplace=True)\n",
    "\n",
    "df2 = pd.DataFrame({'k':[0, 0, 0, 1, 1, 1],\n",
    "                    'v':['v0', 'v0', 'v0','v1', 'v1', 'v1',],\n",
    "                    'w':['w0', 'w0', 'w0','w1', 'w1', 'w1',],\n",
    "                    'u':['u0', 'u0', 'u0','u1', 'u1', 'u1',]\n",
    "                   })\n",
    "df2.set_index('k', inplace=True)\n",
    "\n",
    "df_merged = pd.merge(df1, df2.drop_duplicates(), how='inner', left_index=True, right_index=True)\n",
    "\n",
    "df_merged"
   ]
  }
 ],
 "metadata": {
  "kernelspec": {
   "display_name": "Python 3",
   "language": "python",
   "name": "python3"
  },
  "language_info": {
   "codemirror_mode": {
    "name": "ipython",
    "version": 3
   },
   "file_extension": ".py",
   "mimetype": "text/x-python",
   "name": "python",
   "nbconvert_exporter": "python",
   "pygments_lexer": "ipython3",
   "version": "3.8.5"
  }
 },
 "nbformat": 4,
 "nbformat_minor": 4
}
